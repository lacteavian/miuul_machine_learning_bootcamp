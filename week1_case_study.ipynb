{
  "nbformat": 4,
  "nbformat_minor": 0,
  "metadata": {
    "colab": {
      "provenance": [],
      "authorship_tag": "ABX9TyPm2u8sD9xTLte3tzvDiWVl",
      "include_colab_link": true
    },
    "kernelspec": {
      "name": "python3",
      "display_name": "Python 3"
    },
    "language_info": {
      "name": "python"
    }
  },
  "cells": [
    {
      "cell_type": "markdown",
      "metadata": {
        "id": "view-in-github",
        "colab_type": "text"
      },
      "source": [
        "<a href=\"https://colab.research.google.com/github/lacteavian/miuul_machine_learning_bootcamp/blob/main/week1_case_study.ipynb\" target=\"_parent\"><img src=\"https://colab.research.google.com/assets/colab-badge.svg\" alt=\"Open In Colab\"/></a>"
      ]
    },
    {
      "cell_type": "markdown",
      "source": [
        "example 1"
      ],
      "metadata": {
        "id": "dgNSqJnhyyb6"
      }
    },
    {
      "cell_type": "markdown",
      "source": [
        "Capitalize all letters of the given string expression. Put space instead of commas and dots, separate them word by word.\n",
        "\n",
        "\n"
      ],
      "metadata": {
        "id": "-_8kpkfyytB0"
      }
    },
    {
      "cell_type": "code",
      "source": [
        "text = \"The goal is to turn data into information, and information into insight.\""
      ],
      "metadata": {
        "id": "3ub00BnHyrWU"
      },
      "execution_count": 75,
      "outputs": []
    },
    {
      "cell_type": "code",
      "source": [
        "text=text.upper()\n",
        "text=text.split()"
      ],
      "metadata": {
        "id": "87H5gcOpzQ8M"
      },
      "execution_count": 76,
      "outputs": []
    },
    {
      "cell_type": "code",
      "source": [
        "text=[word.replace(\".\",\" \") if \".\" or \",\" in word else word for word in text]\n",
        "text=[word.replace(\",\",\" \") if \",\" in word else word for word in text]"
      ],
      "metadata": {
        "id": "fqEo1ykX0ijB"
      },
      "execution_count": 77,
      "outputs": []
    },
    {
      "cell_type": "code",
      "source": [
        "text"
      ],
      "metadata": {
        "colab": {
          "base_uri": "https://localhost:8080/"
        },
        "id": "Y38D5bVA43cl",
        "outputId": "c595eedc-b5e9-4e98-aa28-621ce0c9d001"
      },
      "execution_count": 78,
      "outputs": [
        {
          "output_type": "execute_result",
          "data": {
            "text/plain": [
              "['THE',\n",
              " 'GOAL',\n",
              " 'IS',\n",
              " 'TO',\n",
              " 'TURN',\n",
              " 'DATA',\n",
              " 'INTO',\n",
              " 'INFORMATION ',\n",
              " 'AND',\n",
              " 'INFORMATION',\n",
              " 'INTO',\n",
              " 'INSIGHT ']"
            ]
          },
          "metadata": {},
          "execution_count": 78
        }
      ]
    },
    {
      "cell_type": "markdown",
      "source": [
        "example 2"
      ],
      "metadata": {
        "id": "nIMv58Xh8UiD"
      }
    },
    {
      "cell_type": "markdown",
      "source": [
        "Follow the steps below to the given list\n",
        "\n",
        "\n",
        "*   Step1: Look at the number of elements of the given list.\n",
        "*   Step2: Call the elements at index zero and ten.\n",
        "*   Step3: Create a list [\"D\", \"A\", \"T\", \"A\"] from the given list.\n",
        "*   Step4: Delete the element in the eighth index.\n",
        "*   Step5: Add a new element.\n",
        "*   Step6: Re-add element \"N\" to the eighth index.\n",
        "\n",
        "\n",
        "\n"
      ],
      "metadata": {
        "id": "jBWnRr0y8dvp"
      }
    },
    {
      "cell_type": "code",
      "source": [
        "lst = [\"D\", \"A\", \"T\", \"A\", \"S\", \"C\", \"I\", \"E\", \"N\", \"C\", \"E\"]"
      ],
      "metadata": {
        "id": "wluKJV2m8dUS"
      },
      "execution_count": 110,
      "outputs": []
    },
    {
      "cell_type": "code",
      "source": [
        "len(lst)"
      ],
      "metadata": {
        "colab": {
          "base_uri": "https://localhost:8080/"
        },
        "id": "5bZkWKAk8UNP",
        "outputId": "f514d6a3-e2e5-4b81-b3f8-e11dbbf09255"
      },
      "execution_count": 111,
      "outputs": [
        {
          "output_type": "execute_result",
          "data": {
            "text/plain": [
              "11"
            ]
          },
          "metadata": {},
          "execution_count": 111
        }
      ]
    },
    {
      "cell_type": "code",
      "source": [
        "lst[0]\n"
      ],
      "metadata": {
        "colab": {
          "base_uri": "https://localhost:8080/",
          "height": 35
        },
        "id": "P00TaxX-BS_z",
        "outputId": "c18cb587-467f-43ea-9c96-a042973ee474"
      },
      "execution_count": 112,
      "outputs": [
        {
          "output_type": "execute_result",
          "data": {
            "text/plain": [
              "'D'"
            ],
            "application/vnd.google.colaboratory.intrinsic+json": {
              "type": "string"
            }
          },
          "metadata": {},
          "execution_count": 112
        }
      ]
    },
    {
      "cell_type": "code",
      "source": [
        "lst[10]"
      ],
      "metadata": {
        "colab": {
          "base_uri": "https://localhost:8080/",
          "height": 35
        },
        "id": "ROH2NhKeBS9A",
        "outputId": "4e87c8be-b268-464a-f48c-50dfb91f3bec"
      },
      "execution_count": 113,
      "outputs": [
        {
          "output_type": "execute_result",
          "data": {
            "text/plain": [
              "'E'"
            ],
            "application/vnd.google.colaboratory.intrinsic+json": {
              "type": "string"
            }
          },
          "metadata": {},
          "execution_count": 113
        }
      ]
    },
    {
      "cell_type": "code",
      "source": [
        "new_list = lst[0:4]\n",
        "new_list"
      ],
      "metadata": {
        "colab": {
          "base_uri": "https://localhost:8080/"
        },
        "id": "EsHeKME8BS6H",
        "outputId": "44f59179-68ee-4535-9533-bdf1b40aef61"
      },
      "execution_count": 114,
      "outputs": [
        {
          "output_type": "execute_result",
          "data": {
            "text/plain": [
              "['D', 'A', 'T', 'A']"
            ]
          },
          "metadata": {},
          "execution_count": 114
        }
      ]
    },
    {
      "cell_type": "code",
      "source": [
        "lst.remove(lst[8])\n",
        "lst"
      ],
      "metadata": {
        "colab": {
          "base_uri": "https://localhost:8080/"
        },
        "id": "vraiYhIZBS0a",
        "outputId": "ca3b7652-bbd4-4d25-a005-6cf655f67e8f"
      },
      "execution_count": 115,
      "outputs": [
        {
          "output_type": "execute_result",
          "data": {
            "text/plain": [
              "['D', 'A', 'T', 'A', 'S', 'C', 'I', 'E', 'C', 'E']"
            ]
          },
          "metadata": {},
          "execution_count": 115
        }
      ]
    },
    {
      "cell_type": "code",
      "source": [
        "lst.append(\"A\")\n",
        "lst"
      ],
      "metadata": {
        "colab": {
          "base_uri": "https://localhost:8080/"
        },
        "id": "eR4hPRJzBSoG",
        "outputId": "59290ba2-468d-4913-920a-17f75af6cb4e"
      },
      "execution_count": 116,
      "outputs": [
        {
          "output_type": "execute_result",
          "data": {
            "text/plain": [
              "['D', 'A', 'T', 'A', 'S', 'C', 'I', 'E', 'C', 'E', 'A']"
            ]
          },
          "metadata": {},
          "execution_count": 116
        }
      ]
    },
    {
      "cell_type": "code",
      "source": [
        "lst.insert(8,\"N\")\n",
        "lst"
      ],
      "metadata": {
        "colab": {
          "base_uri": "https://localhost:8080/"
        },
        "id": "R9TCp1X7CZBB",
        "outputId": "d35aac9f-9994-45cd-e8eb-98035d81a745"
      },
      "execution_count": 117,
      "outputs": [
        {
          "output_type": "execute_result",
          "data": {
            "text/plain": [
              "['D', 'A', 'T', 'A', 'S', 'C', 'I', 'E', 'N', 'C', 'E', 'A']"
            ]
          },
          "metadata": {},
          "execution_count": 117
        }
      ]
    },
    {
      "cell_type": "markdown",
      "source": [
        "example 3"
      ],
      "metadata": {
        "id": "rr2u5sm5Cu6K"
      }
    },
    {
      "cell_type": "markdown",
      "source": [
        "\n",
        "\n",
        "*   Step 1: Access the key values.\n",
        "*   Step 2: Access the values.\n",
        "*   Step 3: Update the value 12 of the Daisy key to 13.\n",
        "*   Step4: Add a new value whose key value is Ahmet value [Turkey,24].\n",
        "*   Step 5: Delete Antonio from dictionary.\n",
        "\n"
      ],
      "metadata": {
        "id": "tpMQcTeeC7t2"
      }
    },
    {
      "cell_type": "code",
      "source": [
        "dict={'Christian': [\"America\",18],\n",
        "      'Daisy': [\"England\",12],\n",
        "      'Antonio': [\"Spain\",22],\n",
        "      'Dante': [\"Italy\",25]}"
      ],
      "metadata": {
        "id": "BxmnbYRlC5jo"
      },
      "execution_count": 118,
      "outputs": []
    },
    {
      "cell_type": "code",
      "source": [
        "dict.keys()"
      ],
      "metadata": {
        "colab": {
          "base_uri": "https://localhost:8080/"
        },
        "id": "41e1jzURCY4b",
        "outputId": "06c0e6b1-3579-449d-85fa-6a734eed295b"
      },
      "execution_count": 119,
      "outputs": [
        {
          "output_type": "execute_result",
          "data": {
            "text/plain": [
              "dict_keys(['Christian', 'Daisy', 'Antonio', 'Dante'])"
            ]
          },
          "metadata": {},
          "execution_count": 119
        }
      ]
    },
    {
      "cell_type": "code",
      "source": [
        "dict.values()"
      ],
      "metadata": {
        "colab": {
          "base_uri": "https://localhost:8080/"
        },
        "id": "NMJpjNkhCYtC",
        "outputId": "066f7660-ebdd-4256-f560-736c764479c9"
      },
      "execution_count": 120,
      "outputs": [
        {
          "output_type": "execute_result",
          "data": {
            "text/plain": [
              "dict_values([['America', 18], ['England', 12], ['Spain', 22], ['Italy', 25]])"
            ]
          },
          "metadata": {},
          "execution_count": 120
        }
      ]
    },
    {
      "cell_type": "code",
      "source": [
        "dict.update({\"Daisy\":[\"England\",13]})"
      ],
      "metadata": {
        "id": "CRmNyJpFCt60"
      },
      "execution_count": 124,
      "outputs": []
    },
    {
      "cell_type": "code",
      "source": [
        "dict"
      ],
      "metadata": {
        "colab": {
          "base_uri": "https://localhost:8080/"
        },
        "id": "Vjp-HXRWCt4c",
        "outputId": "c4c15550-5dcf-475b-c46d-87093759914b"
      },
      "execution_count": 125,
      "outputs": [
        {
          "output_type": "execute_result",
          "data": {
            "text/plain": [
              "{'Christian': ['America', 18],\n",
              " 'Daisy': ['England', 13],\n",
              " 'Antonio': ['Spain', 22],\n",
              " 'Dante': ['Italy', 25]}"
            ]
          },
          "metadata": {},
          "execution_count": 125
        }
      ]
    },
    {
      "cell_type": "code",
      "source": [
        "dict.update({\"Ahmet\": [\"Turkey\",24]})"
      ],
      "metadata": {
        "id": "B-C1485UCt1j"
      },
      "execution_count": 127,
      "outputs": []
    },
    {
      "cell_type": "code",
      "source": [
        "dict"
      ],
      "metadata": {
        "colab": {
          "base_uri": "https://localhost:8080/"
        },
        "id": "bBJ-s7itCtsL",
        "outputId": "60146ed2-56d8-4597-ec18-0233f255548b"
      },
      "execution_count": 128,
      "outputs": [
        {
          "output_type": "execute_result",
          "data": {
            "text/plain": [
              "{'Christian': ['America', 18],\n",
              " 'Daisy': ['England', 13],\n",
              " 'Antonio': ['Spain', 22],\n",
              " 'Dante': ['Italy', 25],\n",
              " 'Ahmet': ['Turkey', 24]}"
            ]
          },
          "metadata": {},
          "execution_count": 128
        }
      ]
    },
    {
      "cell_type": "code",
      "source": [
        "dict.pop(\"Antonio\")\n",
        "dict"
      ],
      "metadata": {
        "colab": {
          "base_uri": "https://localhost:8080/"
        },
        "id": "j6XRRrg8E76-",
        "outputId": "604c242f-027b-4350-e5d6-3d13671c7f0e"
      },
      "execution_count": 130,
      "outputs": [
        {
          "output_type": "execute_result",
          "data": {
            "text/plain": [
              "{'Christian': ['America', 18],\n",
              " 'Daisy': ['England', 13],\n",
              " 'Dante': ['Italy', 25],\n",
              " 'Ahmet': ['Turkey', 24]}"
            ]
          },
          "metadata": {},
          "execution_count": 130
        }
      ]
    },
    {
      "cell_type": "markdown",
      "source": [
        "example 4"
      ],
      "metadata": {
        "id": "JnmnKzB4FS7e"
      }
    },
    {
      "cell_type": "markdown",
      "source": [
        "Write a function that takes a list as an argument, assigns the odd and even numbers in the list to separate lists, and returns those lists."
      ],
      "metadata": {
        "id": "lglpzigkFV3q"
      }
    },
    {
      "cell_type": "code",
      "source": [
        "l=[1,13,22,45,77,92]"
      ],
      "metadata": {
        "id": "7cm5rexQE74Z"
      },
      "execution_count": 131,
      "outputs": []
    },
    {
      "cell_type": "code",
      "source": [
        "def separate_numbers(list):\n",
        "  odds=[]\n",
        "  evens=[]\n",
        "  for i in list:\n",
        "    if i%2==0:\n",
        "      evens.append(i)\n",
        "    else:\n",
        "      odds.append(i)\n",
        "  return odds,evens"
      ],
      "metadata": {
        "id": "9pMkxB44E71g"
      },
      "execution_count": 134,
      "outputs": []
    },
    {
      "cell_type": "code",
      "source": [
        "separate_numbers(l)"
      ],
      "metadata": {
        "colab": {
          "base_uri": "https://localhost:8080/"
        },
        "id": "-Q6NcwoIE7y5",
        "outputId": "208c137e-1fff-4da7-dc52-514758ac525d"
      },
      "execution_count": 135,
      "outputs": [
        {
          "output_type": "execute_result",
          "data": {
            "text/plain": [
              "([1, 13, 45, 77], [22, 92])"
            ]
          },
          "metadata": {},
          "execution_count": 135
        }
      ]
    },
    {
      "cell_type": "markdown",
      "source": [
        "example 5"
      ],
      "metadata": {
        "id": "RJJU_p8uKw9G"
      }
    },
    {
      "cell_type": "markdown",
      "source": [
        "In the list given below are the names of the students who received degrees in engineering and medicine faculties. While the first three students represent the success order of the engineering faculty, the last three students belong to the medical faculty student rank, respectively. Print the student's degrees specific to the faculty using Enumarate."
      ],
      "metadata": {
        "id": "xp3F5_ffKzJ_"
      }
    },
    {
      "cell_type": "code",
      "source": [
        "students = [\"Ali\",\"Veli\",\"Ayşe\",\"Talat\",\"Zeynep\",\"Ece\"]"
      ],
      "metadata": {
        "id": "By1I30EfE7wX"
      },
      "execution_count": 136,
      "outputs": []
    },
    {
      "cell_type": "code",
      "source": [
        "faculties = [\"engineering\",\"medicine\"]"
      ],
      "metadata": {
        "id": "8xhHaT8lE7tg"
      },
      "execution_count": 137,
      "outputs": []
    },
    {
      "cell_type": "code",
      "source": [
        "for degree,student in enumerate(students,1):\n",
        "  if degree < 4:\n",
        "    print(f\"in engineering {degree}. student: {student}\")\n",
        "  else:\n",
        "    print(f\"in medicine {degree-3}. student: {student}\")"
      ],
      "metadata": {
        "colab": {
          "base_uri": "https://localhost:8080/"
        },
        "id": "wlnbvmclE7iO",
        "outputId": "82eaafcb-afe6-42db-c8f4-f830d22c2145"
      },
      "execution_count": 138,
      "outputs": [
        {
          "output_type": "stream",
          "name": "stdout",
          "text": [
            "in engineering 1. student: Ali\n",
            "in engineering 2. student: Veli\n",
            "in engineering 3. student: Ayşe\n",
            "in medicine 1. student: Talat\n",
            "in medicine 2. student: Zeynep\n",
            "in medicine 3. student: Ece\n"
          ]
        }
      ]
    },
    {
      "cell_type": "markdown",
      "source": [
        "example 6"
      ],
      "metadata": {
        "id": "D2yk-xnXMPIP"
      }
    },
    {
      "cell_type": "markdown",
      "source": [
        "\n",
        "There are two sets below. What is requested from you is that if the 1st set includes the 2nd set, then print the common elements. If it does not, print the difference from the set. You are expected to define the function to perform the above.\n"
      ],
      "metadata": {
        "id": "35XPEu2kMO64"
      }
    },
    {
      "cell_type": "code",
      "source": [
        "set1=set([\"data\",\"python\"])\n",
        "set2=set([\"data\",\"function\",\"qcut\",\"lambda\",\"python\",\"miuul\"])"
      ],
      "metadata": {
        "id": "dAXSBRt3Oz64"
      },
      "execution_count": 145,
      "outputs": []
    },
    {
      "cell_type": "code",
      "source": [
        "def set_operation(set1,set2):\n",
        "  if set1.issuperset(set2):\n",
        "    print(set1.intersection(set2))\n",
        "  else:\n",
        "    print(set2-set1)"
      ],
      "metadata": {
        "id": "j0kEucD4O7Pt"
      },
      "execution_count": 148,
      "outputs": []
    },
    {
      "cell_type": "code",
      "source": [
        "set_operation(set1,set2)"
      ],
      "metadata": {
        "colab": {
          "base_uri": "https://localhost:8080/"
        },
        "id": "nLvAl7JtPge-",
        "outputId": "688b8e2e-33e1-4770-9827-9250c2d08f45"
      },
      "execution_count": 149,
      "outputs": [
        {
          "output_type": "stream",
          "name": "stdout",
          "text": [
            "{'qcut', 'function', 'miuul', 'lambda'}\n"
          ]
        }
      ]
    },
    {
      "cell_type": "markdown",
      "source": [
        "List Comprehensions"
      ],
      "metadata": {
        "id": "-nhtkXnYQE_Q"
      }
    },
    {
      "cell_type": "markdown",
      "source": [
        "Using the List Comprehension structure, capitalize the names of the numeric variables in the car_crashes data and add NUM to the beginning."
      ],
      "metadata": {
        "id": "gFEfviozQNlA"
      }
    },
    {
      "cell_type": "code",
      "source": [
        "import seaborn as sns\n",
        "df=sns.load_dataset(\"car_crashes\")\n",
        "cols=df.columns"
      ],
      "metadata": {
        "id": "X34CMbZnQmNH"
      },
      "execution_count": 165,
      "outputs": []
    },
    {
      "cell_type": "code",
      "source": [
        "cols"
      ],
      "metadata": {
        "colab": {
          "base_uri": "https://localhost:8080/"
        },
        "id": "Wg_XHswqQm2P",
        "outputId": "8c0f5f88-4b1d-48ae-c73b-173902fb08ea"
      },
      "execution_count": 166,
      "outputs": [
        {
          "output_type": "execute_result",
          "data": {
            "text/plain": [
              "Index(['total', 'speeding', 'alcohol', 'not_distracted', 'no_previous',\n",
              "       'ins_premium', 'ins_losses', 'abbrev'],\n",
              "      dtype='object')"
            ]
          },
          "metadata": {},
          "execution_count": 166
        }
      ]
    },
    {
      "cell_type": "code",
      "source": [
        "cols=[\"NUM_\" + col.upper() if df[col].dtype !=\"O\" else col.upper() for col in cols ]\n",
        "cols"
      ],
      "metadata": {
        "colab": {
          "base_uri": "https://localhost:8080/"
        },
        "id": "OB2BtSWnQmxe",
        "outputId": "cef4ff0a-2910-48e6-f7c9-33c2d80757a1"
      },
      "execution_count": 167,
      "outputs": [
        {
          "output_type": "execute_result",
          "data": {
            "text/plain": [
              "['NUM_TOTAL',\n",
              " 'NUM_SPEEDING',\n",
              " 'NUM_ALCOHOL',\n",
              " 'NUM_NOT_DISTRACTED',\n",
              " 'NUM_NO_PREVIOUS',\n",
              " 'NUM_INS_PREMIUM',\n",
              " 'NUM_INS_LOSSES',\n",
              " 'ABBREV']"
            ]
          },
          "metadata": {},
          "execution_count": 167
        }
      ]
    },
    {
      "cell_type": "markdown",
      "source": [
        "Using the List Comprehension structure, write \"FLAG\" after the names of the variables in the car_crashes data that do not contain \"no\" in their names."
      ],
      "metadata": {
        "id": "khCsUiQVTQjZ"
      }
    },
    {
      "cell_type": "code",
      "source": [
        "[col + \"_FLAG\" if \"NO\" not in col else col for col in cols ]"
      ],
      "metadata": {
        "colab": {
          "base_uri": "https://localhost:8080/"
        },
        "id": "6DFtNI86Qmoo",
        "outputId": "8b6ede60-abea-4f3c-e702-51254283d919"
      },
      "execution_count": 172,
      "outputs": [
        {
          "output_type": "execute_result",
          "data": {
            "text/plain": [
              "['NUM_TOTAL_FLAG',\n",
              " 'NUM_SPEEDING_FLAG',\n",
              " 'NUM_ALCOHOL_FLAG',\n",
              " 'NUM_NOT_DISTRACTED',\n",
              " 'NUM_NO_PREVIOUS',\n",
              " 'NUM_INS_PREMIUM_FLAG',\n",
              " 'NUM_INS_LOSSES_FLAG',\n",
              " 'ABBREV_FLAG']"
            ]
          },
          "metadata": {},
          "execution_count": 172
        }
      ]
    },
    {
      "cell_type": "markdown",
      "source": [
        "Using the List Comprehension structure, select the names of the variables that are DIFFERENT from the variable names given below and create a new dataframe."
      ],
      "metadata": {
        "id": "qsrn0mvMVPUM"
      }
    },
    {
      "cell_type": "code",
      "source": [
        "og_list=[\"abbrev\",\"no_previous\"]"
      ],
      "metadata": {
        "id": "6hg7xfECVQ7b"
      },
      "execution_count": 173,
      "outputs": []
    },
    {
      "cell_type": "code",
      "source": [
        "new_cols=df.columns"
      ],
      "metadata": {
        "id": "t6igQm3HVbZI"
      },
      "execution_count": 175,
      "outputs": []
    },
    {
      "cell_type": "code",
      "source": [
        "new_df = df[[col for col in new_cols if col not in og_list]]"
      ],
      "metadata": {
        "id": "0LE8EQ_4VbP_"
      },
      "execution_count": 182,
      "outputs": []
    },
    {
      "cell_type": "code",
      "source": [
        "new_df.head()"
      ],
      "metadata": {
        "colab": {
          "base_uri": "https://localhost:8080/",
          "height": 206
        },
        "id": "YU8s5Sy5Wp1k",
        "outputId": "52310d3c-9d4d-44b3-d9ab-3246f224197c"
      },
      "execution_count": 185,
      "outputs": [
        {
          "output_type": "execute_result",
          "data": {
            "text/plain": [
              "   total  speeding  alcohol  not_distracted  ins_premium  ins_losses\n",
              "0   18.8     7.332    5.640          18.048       784.55      145.08\n",
              "1   18.1     7.421    4.525          16.290      1053.48      133.93\n",
              "2   18.6     6.510    5.208          15.624       899.47      110.35\n",
              "3   22.4     4.032    5.824          21.056       827.34      142.39\n",
              "4   12.0     4.200    3.360          10.920       878.41      165.63"
            ],
            "text/html": [
              "\n",
              "\n",
              "  <div id=\"df-0068ba35-a50c-4786-9348-c99baeaa2d6b\">\n",
              "    <div class=\"colab-df-container\">\n",
              "      <div>\n",
              "<style scoped>\n",
              "    .dataframe tbody tr th:only-of-type {\n",
              "        vertical-align: middle;\n",
              "    }\n",
              "\n",
              "    .dataframe tbody tr th {\n",
              "        vertical-align: top;\n",
              "    }\n",
              "\n",
              "    .dataframe thead th {\n",
              "        text-align: right;\n",
              "    }\n",
              "</style>\n",
              "<table border=\"1\" class=\"dataframe\">\n",
              "  <thead>\n",
              "    <tr style=\"text-align: right;\">\n",
              "      <th></th>\n",
              "      <th>total</th>\n",
              "      <th>speeding</th>\n",
              "      <th>alcohol</th>\n",
              "      <th>not_distracted</th>\n",
              "      <th>ins_premium</th>\n",
              "      <th>ins_losses</th>\n",
              "    </tr>\n",
              "  </thead>\n",
              "  <tbody>\n",
              "    <tr>\n",
              "      <th>0</th>\n",
              "      <td>18.8</td>\n",
              "      <td>7.332</td>\n",
              "      <td>5.640</td>\n",
              "      <td>18.048</td>\n",
              "      <td>784.55</td>\n",
              "      <td>145.08</td>\n",
              "    </tr>\n",
              "    <tr>\n",
              "      <th>1</th>\n",
              "      <td>18.1</td>\n",
              "      <td>7.421</td>\n",
              "      <td>4.525</td>\n",
              "      <td>16.290</td>\n",
              "      <td>1053.48</td>\n",
              "      <td>133.93</td>\n",
              "    </tr>\n",
              "    <tr>\n",
              "      <th>2</th>\n",
              "      <td>18.6</td>\n",
              "      <td>6.510</td>\n",
              "      <td>5.208</td>\n",
              "      <td>15.624</td>\n",
              "      <td>899.47</td>\n",
              "      <td>110.35</td>\n",
              "    </tr>\n",
              "    <tr>\n",
              "      <th>3</th>\n",
              "      <td>22.4</td>\n",
              "      <td>4.032</td>\n",
              "      <td>5.824</td>\n",
              "      <td>21.056</td>\n",
              "      <td>827.34</td>\n",
              "      <td>142.39</td>\n",
              "    </tr>\n",
              "    <tr>\n",
              "      <th>4</th>\n",
              "      <td>12.0</td>\n",
              "      <td>4.200</td>\n",
              "      <td>3.360</td>\n",
              "      <td>10.920</td>\n",
              "      <td>878.41</td>\n",
              "      <td>165.63</td>\n",
              "    </tr>\n",
              "  </tbody>\n",
              "</table>\n",
              "</div>\n",
              "      <button class=\"colab-df-convert\" onclick=\"convertToInteractive('df-0068ba35-a50c-4786-9348-c99baeaa2d6b')\"\n",
              "              title=\"Convert this dataframe to an interactive table.\"\n",
              "              style=\"display:none;\">\n",
              "\n",
              "  <svg xmlns=\"http://www.w3.org/2000/svg\" height=\"24px\"viewBox=\"0 0 24 24\"\n",
              "       width=\"24px\">\n",
              "    <path d=\"M0 0h24v24H0V0z\" fill=\"none\"/>\n",
              "    <path d=\"M18.56 5.44l.94 2.06.94-2.06 2.06-.94-2.06-.94-.94-2.06-.94 2.06-2.06.94zm-11 1L8.5 8.5l.94-2.06 2.06-.94-2.06-.94L8.5 2.5l-.94 2.06-2.06.94zm10 10l.94 2.06.94-2.06 2.06-.94-2.06-.94-.94-2.06-.94 2.06-2.06.94z\"/><path d=\"M17.41 7.96l-1.37-1.37c-.4-.4-.92-.59-1.43-.59-.52 0-1.04.2-1.43.59L10.3 9.45l-7.72 7.72c-.78.78-.78 2.05 0 2.83L4 21.41c.39.39.9.59 1.41.59.51 0 1.02-.2 1.41-.59l7.78-7.78 2.81-2.81c.8-.78.8-2.07 0-2.86zM5.41 20L4 18.59l7.72-7.72 1.47 1.35L5.41 20z\"/>\n",
              "  </svg>\n",
              "      </button>\n",
              "\n",
              "\n",
              "\n",
              "    <div id=\"df-760a86d5-864e-49da-b22c-813d8d6897a5\">\n",
              "      <button class=\"colab-df-quickchart\" onclick=\"quickchart('df-760a86d5-864e-49da-b22c-813d8d6897a5')\"\n",
              "              title=\"Suggest charts.\"\n",
              "              style=\"display:none;\">\n",
              "\n",
              "<svg xmlns=\"http://www.w3.org/2000/svg\" height=\"24px\"viewBox=\"0 0 24 24\"\n",
              "     width=\"24px\">\n",
              "    <g>\n",
              "        <path d=\"M19 3H5c-1.1 0-2 .9-2 2v14c0 1.1.9 2 2 2h14c1.1 0 2-.9 2-2V5c0-1.1-.9-2-2-2zM9 17H7v-7h2v7zm4 0h-2V7h2v10zm4 0h-2v-4h2v4z\"/>\n",
              "    </g>\n",
              "</svg>\n",
              "      </button>\n",
              "    </div>\n",
              "\n",
              "<style>\n",
              "  .colab-df-quickchart {\n",
              "    background-color: #E8F0FE;\n",
              "    border: none;\n",
              "    border-radius: 50%;\n",
              "    cursor: pointer;\n",
              "    display: none;\n",
              "    fill: #1967D2;\n",
              "    height: 32px;\n",
              "    padding: 0 0 0 0;\n",
              "    width: 32px;\n",
              "  }\n",
              "\n",
              "  .colab-df-quickchart:hover {\n",
              "    background-color: #E2EBFA;\n",
              "    box-shadow: 0px 1px 2px rgba(60, 64, 67, 0.3), 0px 1px 3px 1px rgba(60, 64, 67, 0.15);\n",
              "    fill: #174EA6;\n",
              "  }\n",
              "\n",
              "  [theme=dark] .colab-df-quickchart {\n",
              "    background-color: #3B4455;\n",
              "    fill: #D2E3FC;\n",
              "  }\n",
              "\n",
              "  [theme=dark] .colab-df-quickchart:hover {\n",
              "    background-color: #434B5C;\n",
              "    box-shadow: 0px 1px 3px 1px rgba(0, 0, 0, 0.15);\n",
              "    filter: drop-shadow(0px 1px 2px rgba(0, 0, 0, 0.3));\n",
              "    fill: #FFFFFF;\n",
              "  }\n",
              "</style>\n",
              "\n",
              "    <script>\n",
              "      async function quickchart(key) {\n",
              "        const containerElement = document.querySelector('#' + key);\n",
              "        const charts = await google.colab.kernel.invokeFunction(\n",
              "            'suggestCharts', [key], {});\n",
              "      }\n",
              "    </script>\n",
              "\n",
              "      <script>\n",
              "\n",
              "function displayQuickchartButton(domScope) {\n",
              "  let quickchartButtonEl =\n",
              "    domScope.querySelector('#df-760a86d5-864e-49da-b22c-813d8d6897a5 button.colab-df-quickchart');\n",
              "  quickchartButtonEl.style.display =\n",
              "    google.colab.kernel.accessAllowed ? 'block' : 'none';\n",
              "}\n",
              "\n",
              "        displayQuickchartButton(document);\n",
              "      </script>\n",
              "      <style>\n",
              "    .colab-df-container {\n",
              "      display:flex;\n",
              "      flex-wrap:wrap;\n",
              "      gap: 12px;\n",
              "    }\n",
              "\n",
              "    .colab-df-convert {\n",
              "      background-color: #E8F0FE;\n",
              "      border: none;\n",
              "      border-radius: 50%;\n",
              "      cursor: pointer;\n",
              "      display: none;\n",
              "      fill: #1967D2;\n",
              "      height: 32px;\n",
              "      padding: 0 0 0 0;\n",
              "      width: 32px;\n",
              "    }\n",
              "\n",
              "    .colab-df-convert:hover {\n",
              "      background-color: #E2EBFA;\n",
              "      box-shadow: 0px 1px 2px rgba(60, 64, 67, 0.3), 0px 1px 3px 1px rgba(60, 64, 67, 0.15);\n",
              "      fill: #174EA6;\n",
              "    }\n",
              "\n",
              "    [theme=dark] .colab-df-convert {\n",
              "      background-color: #3B4455;\n",
              "      fill: #D2E3FC;\n",
              "    }\n",
              "\n",
              "    [theme=dark] .colab-df-convert:hover {\n",
              "      background-color: #434B5C;\n",
              "      box-shadow: 0px 1px 3px 1px rgba(0, 0, 0, 0.15);\n",
              "      filter: drop-shadow(0px 1px 2px rgba(0, 0, 0, 0.3));\n",
              "      fill: #FFFFFF;\n",
              "    }\n",
              "  </style>\n",
              "\n",
              "      <script>\n",
              "        const buttonEl =\n",
              "          document.querySelector('#df-0068ba35-a50c-4786-9348-c99baeaa2d6b button.colab-df-convert');\n",
              "        buttonEl.style.display =\n",
              "          google.colab.kernel.accessAllowed ? 'block' : 'none';\n",
              "\n",
              "        async function convertToInteractive(key) {\n",
              "          const element = document.querySelector('#df-0068ba35-a50c-4786-9348-c99baeaa2d6b');\n",
              "          const dataTable =\n",
              "            await google.colab.kernel.invokeFunction('convertToInteractive',\n",
              "                                                     [key], {});\n",
              "          if (!dataTable) return;\n",
              "\n",
              "          const docLinkHtml = 'Like what you see? Visit the ' +\n",
              "            '<a target=\"_blank\" href=https://colab.research.google.com/notebooks/data_table.ipynb>data table notebook</a>'\n",
              "            + ' to learn more about interactive tables.';\n",
              "          element.innerHTML = '';\n",
              "          dataTable['output_type'] = 'display_data';\n",
              "          await google.colab.output.renderOutput(dataTable, element);\n",
              "          const docLink = document.createElement('div');\n",
              "          docLink.innerHTML = docLinkHtml;\n",
              "          element.appendChild(docLink);\n",
              "        }\n",
              "      </script>\n",
              "    </div>\n",
              "  </div>\n"
            ]
          },
          "metadata": {},
          "execution_count": 185
        }
      ]
    }
  ]
}